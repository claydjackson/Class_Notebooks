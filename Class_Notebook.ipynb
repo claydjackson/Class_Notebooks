{
 "cells": [
  {
   "cell_type": "markdown",
   "id": "4ef4485e",
   "metadata": {},
   "source": [
    "# Ch9 Classes"
   ]
  },
  {
   "cell_type": "markdown",
   "id": "7b465366",
   "metadata": {},
   "source": [
    "### Python is an object oriented programming language.\n",
    "- Almost everything in Python is an object, with its properties and methods (Functions).\n",
    "- A Class is like an object constructor, or a \"blueprint\" for creating objects."
   ]
  },
  {
   "cell_type": "code",
   "execution_count": 2,
   "id": "741b88de",
   "metadata": {},
   "outputs": [
    {
     "ename": "NameError",
     "evalue": "name 'emp_1' is not defined",
     "output_type": "error",
     "traceback": [
      "\u001b[1;31m---------------------------------------------------------------------------\u001b[0m",
      "\u001b[1;31mNameError\u001b[0m                                 Traceback (most recent call last)",
      "\u001b[1;32m~\\AppData\\Local\\Temp\\ipykernel_31712\\2439612636.py\u001b[0m in \u001b[0;36m<module>\u001b[1;34m\u001b[0m\n\u001b[0;32m     18\u001b[0m \u001b[0memp2\u001b[0m\u001b[1;33m=\u001b[0m\u001b[0mEmployee\u001b[0m\u001b[1;33m(\u001b[0m\u001b[1;34m\"peter\"\u001b[0m\u001b[1;33m,\u001b[0m\u001b[1;34m\"WHITE\"\u001b[0m\u001b[1;33m,\u001b[0m\u001b[1;36m35\u001b[0m\u001b[1;33m,\u001b[0m\u001b[1;34m\"finance\"\u001b[0m\u001b[1;33m)\u001b[0m\u001b[1;33m\u001b[0m\u001b[1;33m\u001b[0m\u001b[0m\n\u001b[0;32m     19\u001b[0m \u001b[1;33m\u001b[0m\u001b[0m\n\u001b[1;32m---> 20\u001b[1;33m \u001b[0mprint\u001b[0m\u001b[1;33m(\u001b[0m\u001b[1;34mf\"The email of first employee {emp_1.email}\"\u001b[0m\u001b[1;33m)\u001b[0m\u001b[1;33m\u001b[0m\u001b[1;33m\u001b[0m\u001b[0m\n\u001b[0m\u001b[0;32m     21\u001b[0m \u001b[0mprint\u001b[0m\u001b[1;33m(\u001b[0m\u001b[1;34mf\"First name of employee 1 {emp1.first}\"\u001b[0m\u001b[1;33m)\u001b[0m\u001b[1;33m\u001b[0m\u001b[1;33m\u001b[0m\u001b[0m\n\u001b[0;32m     22\u001b[0m \u001b[0mprint\u001b[0m\u001b[1;33m(\u001b[0m\u001b[1;34mf\"Last name of employee 1 {emp1.last}\"\u001b[0m\u001b[1;33m)\u001b[0m\u001b[1;33m\u001b[0m\u001b[1;33m\u001b[0m\u001b[0m\n",
      "\u001b[1;31mNameError\u001b[0m: name 'emp_1' is not defined"
     ]
    }
   ],
   "source": [
    "class  Employee(): # name of the class\n",
    "# init is the constructor of the class. Mandatory for a class constrcution\n",
    "# self is used to represent the instant of the class\n",
    "    def __init__(self,first,last,age,department): \n",
    "        # method/function\n",
    "        self.first=first.title()\n",
    "        self.last=last.title()\n",
    "        self.age=age\n",
    "        self.department=department.title()\n",
    "        self.email=first.lower()+\".\"+last.lower()+\"@company.com\"\n",
    "\n",
    "    # Creating a method called fullname. Needs only the instance\n",
    "    def fullname(self):\n",
    "        print(f\"The full name: {self.first} {self.last}\")\n",
    "        \n",
    "# init will run automatically when you call the class       \n",
    "emp1=Employee(\"angy\",\"hill\",25,\"accounting\")\n",
    "emp2=Employee(\"peter\",\"WHITE\",35,\"finance\")\n",
    "\n",
    "print(f\"The email of first employee {emp_1.email}\")\n",
    "print(f\"First name of employee 1 {emp1.first}\")\n",
    "print(f\"Last name of employee 1 {emp1.last}\")\n",
    "print(f\"age name of employee 1 {emp1.age}\")\n",
    "#print(f\"The email of second employee {emp_2.email}\")\n",
    "#print(f\"Full name of employee two {emp_1.first} {emp_2.last}\")\n",
    "print(emp1.fullname)"
   ]
  },
  {
   "cell_type": "code",
   "execution_count": null,
   "id": "a9136cf8",
   "metadata": {},
   "outputs": [],
   "source": []
  },
  {
   "cell_type": "markdown",
   "id": "5d60f7c0",
   "metadata": {},
   "source": [
    "### Creating the Dog Class\n",
    "Each instance created from the Dog class will store a name and an age, and we’ll give each dog the ability to sit() and roll_over():"
   ]
  },
  {
   "cell_type": "code",
   "execution_count": 3,
   "id": "6e84155c",
   "metadata": {},
   "outputs": [
    {
     "name": "stdout",
     "output_type": "stream",
     "text": [
      "Shelly\n",
      "4\n",
      "Shelly is sitting\n",
      "Shelly is rolled over\n",
      "Penny is sitting\n",
      "Penny is rolled over\n",
      "Penny barked at someone\n",
      "Penny shaked a random person\n",
      "Penny is down\n"
     ]
    }
   ],
   "source": [
    "class dog():\n",
    "    def __init__(self,name,age):\n",
    "        self.name=name.title()\n",
    "        self.age=age\n",
    "    def sit(self):\n",
    "        print(f\"{self.name} is sitting\")\n",
    "    def roll_over(self):\n",
    "        print(f\"{self.name} is rolled over\")\n",
    "    def shake(self):\n",
    "        print(f\"{self.name} shaked a random person\")\n",
    "    def bark(self):\n",
    "        print(f\"{self.name} barked at someone\")\n",
    "    def down(self):\n",
    "        print(f\"{self.name} is down\")\n",
    "dog1=dog(\"Shelly\",4)\n",
    "print(dog1.name)\n",
    "print(dog1.age)\n",
    "dog1.sit()\n",
    "dog1.roll_over()\n",
    "dog2=dog(\"Penny\",1)\n",
    "dog2.sit()\n",
    "dog2.roll_over()\n",
    "dog2.bark()\n",
    "dog2.shake()\n",
    "dog2.down()"
   ]
  },
  {
   "cell_type": "code",
   "execution_count": null,
   "id": "3c70e9c0",
   "metadata": {},
   "outputs": [],
   "source": []
  },
  {
   "cell_type": "markdown",
   "id": "8bbcc5c0",
   "metadata": {},
   "source": [
    "#### Note:\n",
    "- By convention, capitalized names refer to classes in Python. \n",
    "- The parentheses in the class definition are empty because we’re creating this class from scratch.\n",
    "- All classes have a function called __init__(), which is always executed when the class is being initiated.\n",
    "- Use the __init__() function to assign values to object properties, or other operations that are necessary to do when the object is being created\n",
    "- Any variable prefixed with `self` is available to every method in the class, and we’ll also be able to access these variables through any instance created from the class.\n",
    "- The Dog class has two other methods defined: sit() and roll_over().Because these methods don’t need additional information like a name or age, we just define them to have one parameter, self."
   ]
  },
  {
   "cell_type": "markdown",
   "id": "402f0696",
   "metadata": {},
   "source": [
    "### Restaurant: Make a class called Restaurant. The __init__() method for Restaurant should store two attributes: a restaurant_name and a cuisine_type.\n",
    "- Make a method called `describe_restaurant()` that prints name of teh restrurent and the cuisine type\n",
    "- and a method called open_restaurant() that prints a message indicating that the restaurant is open.\n",
    "- Make an instance called restaurant from your class. Print the two attributes individually, and then call both methods.\n"
   ]
  },
  {
   "cell_type": "code",
   "execution_count": 4,
   "id": "c4316b2d",
   "metadata": {},
   "outputs": [
    {
     "name": "stdout",
     "output_type": "stream",
     "text": [
      "resturant name: The Mean Queen\n",
      " The cuisine type is: pizza\n",
      "The Mean Queen serves wonderful pizza.\n",
      "The Mean Queen is open. Come on in!\n"
     ]
    }
   ],
   "source": [
    "class resturant():\n",
    "    \n",
    "    def __init__(self,name,cuisine):\n",
    "        self.name=name.title()\n",
    "        self.cuisine=cuisine\n",
    "        \n",
    "    def describe_resturant(self):\n",
    "        print(f\"{self.name} serves wonderful {self.cuisine}.\")\n",
    "        \n",
    "    def open_resturant(self):\n",
    "        print(f\"{self.name} is open. Come on in!\")\n",
    "        \n",
    "resturant1=resturant(\"The Mean Queen\", \"pizza\")\n",
    "print(f\"resturant name: {resturant1.name}\")\n",
    "print(f\" The cuisine type is: {resturant1.cuisine}\")\n",
    "\n",
    "resturant1.describe_resturant()\n",
    "resturant1.open_resturant()"
   ]
  },
  {
   "cell_type": "code",
   "execution_count": null,
   "id": "f9be3f46",
   "metadata": {},
   "outputs": [],
   "source": []
  },
  {
   "cell_type": "markdown",
   "id": "8b4a4fca",
   "metadata": {},
   "source": [
    "### - Create three different instances from the class, and call describe_restaurant() for each instance."
   ]
  },
  {
   "cell_type": "code",
   "execution_count": 5,
   "id": "b3845fe0",
   "metadata": {},
   "outputs": [
    {
     "name": "stdout",
     "output_type": "stream",
     "text": [
      "The Mean Queen serves wonderful pizza.\n",
      "Royals Hot Chicken serves wonderful Hot Chciken.\n",
      "Thai Place serves wonderful Red Curry.\n"
     ]
    }
   ],
   "source": [
    "resturant1=resturant(\"The Mean Queen\", \"pizza\")\n",
    "resturant2=resturant(\"Royals Hot Chicken\", \"Hot Chciken\")\n",
    "resturant3=resturant(\"Thai Place\", \"Red Curry\")\n",
    "\n",
    "resturant1.describe_resturant()\n",
    "resturant2.describe_resturant()\n",
    "resturant3.describe_resturant()"
   ]
  },
  {
   "cell_type": "code",
   "execution_count": null,
   "id": "e6aa8a33",
   "metadata": {},
   "outputs": [],
   "source": []
  },
  {
   "cell_type": "code",
   "execution_count": null,
   "id": "6b24e6f1",
   "metadata": {},
   "outputs": [],
   "source": []
  },
  {
   "cell_type": "markdown",
   "id": "8f4032c6",
   "metadata": {},
   "source": [
    "### Users: Make a class called User. Create attributes called first_name and last_name, username, location \n",
    "- Make a method called describe_user() that prints a summary of the user’s information. \n",
    "- Make another method called greet_user() that prints a personalized greeting to the user.\n",
    "- Create several instances representing different users, and call both methods for each user."
   ]
  },
  {
   "cell_type": "code",
   "execution_count": null,
   "id": "dda94ce2",
   "metadata": {},
   "outputs": [],
   "source": [
    "class user():\n",
    "    def __init__(self,fname,lname,uname,location):\n",
    "        self.fname=fname.title()\n",
    "        self.lname=lname.title()\n",
    "        self.uname=uname\n",
    "        self.location=location.title()\n",
    "        \n",
    "    def describe_user(self):\n",
    "        print(f\"\\n{self.fname} {self.lname}\")\n",
    "        print(f\"Username: {self.uname}\")\n",
    "        print(f\"Location: {self.location}\")\n",
    "\n",
    "    def greet_user(self):\n",
    "        print(f\"\\n Welcome back {self.fname}.\")\n",
    "        \n",
    "user1=user('eric','matthews','e_matthews','alaska')\n",
    "user1.describe_user()\n",
    "user1.greet_user()\n",
    "\n",
    "user2=user('willy','burger','w_burger','alaska')\n",
    "user2.describe_user()\n",
    "user2.greet_user()"
   ]
  },
  {
   "cell_type": "code",
   "execution_count": null,
   "id": "8864d617",
   "metadata": {},
   "outputs": [],
   "source": []
  },
  {
   "cell_type": "markdown",
   "id": "8b5bfff2",
   "metadata": {},
   "source": [
    "## Setting a Default Value for an Attribute\n",
    "*create a class called 'car' which contains make,model,year.\n",
    "*Add the odometer_reading default to 0 (New Car)\n",
    "*create a method called 'get_descriptive_name' which returns the car informations. \n",
    "*create a method called 'read_odometer' which will display the odometer reading of the car\n",
    "*create two car attributes to test the code"
   ]
  },
  {
   "cell_type": "code",
   "execution_count": null,
   "id": "bbdc7a10",
   "metadata": {},
   "outputs": [],
   "source": [
    "# create a class called 'car' which contains make,model,year\n",
    "class car():\n",
    "    def __init__(self,make,model,year):\n",
    "        self.make=make\n",
    "        self.model=model\n",
    "        self.year=year\n",
    "# Add the odometer_reading default to 0 (New Car) \n",
    "        self.odometer_reading=0\n",
    "#create a method called 'get_descriptive_name' which returns the car informations\n",
    "    def get_descriptive_name(self):\n",
    "        long_name= str(self.year)+\" \"+self.make + \" \"+self.model\n",
    "        return long_name.title()\n",
    "  \n",
    "    def read_odometer(self):\n",
    "        print(f\"This car has {self.odometer_reading} miles on it.\")"
   ]
  },
  {
   "cell_type": "code",
   "execution_count": null,
   "id": "35859896",
   "metadata": {},
   "outputs": [],
   "source": [
    "my_car=car('Nissan','Versa',2019)\n",
    "friends_car=car('Hyundai','Elantra',2018)\n",
    "print(f\"My car: {my_car.get_descriptive_name()}\")\n",
    "print(f\"My friends car: {friends_car.get_descriptive_name()}\")\n",
    "\n",
    "print(f\"My car info: {my_car.read_odometer()}\")\n",
    "print(f\"Friends car info: {friends_car.read_odometer()}\")"
   ]
  },
  {
   "cell_type": "code",
   "execution_count": null,
   "id": "9ea6316b",
   "metadata": {},
   "outputs": [],
   "source": []
  },
  {
   "cell_type": "markdown",
   "id": "3f840f3e",
   "metadata": {},
   "source": [
    "#### Modifying an Attribute’s Value Directly"
   ]
  },
  {
   "cell_type": "markdown",
   "id": "21bcc919",
   "metadata": {},
   "source": [
    "### Modify the otometer reading directly (without the method)"
   ]
  },
  {
   "cell_type": "code",
   "execution_count": null,
   "id": "2f382418",
   "metadata": {},
   "outputs": [],
   "source": [
    "my_car.odometer_reading=23   #Overwrite the default value\n",
    "my_car.read_odometer()"
   ]
  },
  {
   "cell_type": "code",
   "execution_count": null,
   "id": "061332eb",
   "metadata": {},
   "outputs": [],
   "source": [
    "friends_car.odometer_reading=10\n",
    "friends_car.read_odometer()"
   ]
  },
  {
   "cell_type": "markdown",
   "id": "27f8f244",
   "metadata": {},
   "source": [
    "### Modifying an Attribute’s Value Through a Method"
   ]
  },
  {
   "cell_type": "code",
   "execution_count": null,
   "id": "9b3ae956",
   "metadata": {},
   "outputs": [],
   "source": [
    "# create a class called 'car' which contains make,model,year\n",
    "class car():\n",
    "    def __init__(self,make,model,year):\n",
    "        self.make=make\n",
    "        self.model=model\n",
    "        self.year=year\n",
    "# Add the odometer_reading default to 0 (New Car) \n",
    "        self.odometer_reading=0\n",
    "#create a method called 'get_descriptive_name' which returns the car informations\n",
    "    def get_descriptive_name(self):\n",
    "        long_name= str(self.year)+\" \"+self.make + \" \"+self.model\n",
    "        return long_name.title()\n",
    "  \n",
    "    def read_odometer(self):\n",
    "        print(f\"This car has {self.odometer_reading} miles on it.\")\n",
    "        \n",
    "    def update_odometer(self,mileage):\n",
    "        self.odometer_reading=mileage"
   ]
  },
  {
   "cell_type": "code",
   "execution_count": null,
   "id": "3c3c57c2",
   "metadata": {},
   "outputs": [],
   "source": [
    "my_car=car('Nissan','Versa',2019)\n",
    "print(\"The car in formation\",my_car.get_descriptive_name())\n",
    "my_car.read_odometer()\n",
    "my_car.update_odometer(23)"
   ]
  },
  {
   "cell_type": "code",
   "execution_count": null,
   "id": "eeaeef27",
   "metadata": {},
   "outputs": [],
   "source": [
    "my_car.update_odometer()"
   ]
  },
  {
   "cell_type": "markdown",
   "id": "fd560131",
   "metadata": {},
   "source": [
    "### Incrementing an Attribute’s Value Through a Method"
   ]
  },
  {
   "cell_type": "code",
   "execution_count": null,
   "id": "8d76b884",
   "metadata": {},
   "outputs": [],
   "source": [
    "# create a class called 'car' which contains make,model,year\n",
    "class car():\n",
    "    def __init__(self,make,model,year):\n",
    "        self.make=make\n",
    "        self.model=model\n",
    "        self.year=year\n",
    "# Add the odometer_reading default to 0 (New Car) \n",
    "        self.odometer_reading=0\n",
    "#create a method called 'get_descriptive_name' which returns the car informations\n",
    "    def get_descriptive_name(self):\n",
    "        long_name= str(self.year)+\" \"+self.make + \" \"+self.model\n",
    "        return long_name.title()\n",
    "  \n",
    "    def read_odometer(self):\n",
    "        print(f\"This car has {self.odometer_reading} miles on it.\")\n",
    "        \n",
    "    def update_odometer(self,mileage):\n",
    "        self.odometer_reading=mileage\n",
    "        print(f\"The current odometer reading: {self.odometer_reading}\")\n",
    "        \n",
    "    def incremental_odometer(self,mileage):\n",
    "        self.odometer_reading+=mileage\n",
    "        print(f\"The updated odometer reading {self.odometer_reading}\")"
   ]
  },
  {
   "cell_type": "code",
   "execution_count": null,
   "id": "1500c7e7",
   "metadata": {},
   "outputs": [],
   "source": [
    "my_car=car('Nissan','Versa',2019)\n",
    "print(\"The car in formation\",my_car.get_descriptive_name())\n",
    "my_car.read_odometer()\n",
    "my_car.update_odometer(23)\n",
    "my_car.incremental_odometer(100)"
   ]
  },
  {
   "cell_type": "markdown",
   "id": "b96f0d18",
   "metadata": {},
   "source": [
    "# Inheritance\n",
    "- You don’t always have to start from scratch when writing a class. If the class you’re writing is a specialized version of another class you wrote, you can use inheritance. \n",
    "- When one class inherits from another, it automatically takes on all the attributes and methods of the first class. The original class is called the `parent class`, and the new class is the `child class`. \n",
    "- The child class inherits every attribute and method from its parent class but is also free to define new attributes and methods of its own."
   ]
  },
  {
   "cell_type": "code",
   "execution_count": null,
   "id": "5b7c3efd",
   "metadata": {},
   "outputs": [],
   "source": []
  },
  {
   "cell_type": "code",
   "execution_count": null,
   "id": "07cbb387",
   "metadata": {},
   "outputs": [],
   "source": []
  },
  {
   "cell_type": "code",
   "execution_count": null,
   "id": "34de9649",
   "metadata": {},
   "outputs": [],
   "source": []
  },
  {
   "cell_type": "markdown",
   "id": "5b594c20",
   "metadata": {},
   "source": [
    "### Practice: Create a class named Person, with firstname and lastname properties, and a printname method:"
   ]
  },
  {
   "cell_type": "code",
   "execution_count": null,
   "id": "681edaaf",
   "metadata": {},
   "outputs": [],
   "source": []
  },
  {
   "cell_type": "code",
   "execution_count": null,
   "id": "9d3a0e56",
   "metadata": {},
   "outputs": [],
   "source": []
  },
  {
   "cell_type": "code",
   "execution_count": null,
   "id": "b75d7a0a",
   "metadata": {},
   "outputs": [],
   "source": []
  },
  {
   "cell_type": "markdown",
   "id": "a8023470",
   "metadata": {},
   "source": [
    "### Create child classes called Student using Inheritance contains the first and last name and the graduation year \n",
    "- Add a method called `welcome` that prints the student graduation year\n",
    "- Test the student method for two students"
   ]
  },
  {
   "cell_type": "code",
   "execution_count": null,
   "id": "8a1571d5",
   "metadata": {},
   "outputs": [],
   "source": []
  },
  {
   "cell_type": "markdown",
   "id": "f6b3d91f",
   "metadata": {},
   "source": [
    "### Lamda Function"
   ]
  },
  {
   "cell_type": "code",
   "execution_count": 1,
   "id": "6f082f95",
   "metadata": {},
   "outputs": [],
   "source": [
    "def identity(x):\n",
    "    return x"
   ]
  },
  {
   "cell_type": "code",
   "execution_count": 2,
   "id": "01f36125",
   "metadata": {},
   "outputs": [
    {
     "data": {
      "text/plain": [
       "3"
      ]
     },
     "execution_count": 2,
     "metadata": {},
     "output_type": "execute_result"
    }
   ],
   "source": [
    "identity(3)"
   ]
  },
  {
   "cell_type": "markdown",
   "id": "a478a922",
   "metadata": {},
   "source": [
    "### Lambda function construction"
   ]
  },
  {
   "cell_type": "code",
   "execution_count": 4,
   "id": "7ca94fa7",
   "metadata": {},
   "outputs": [
    {
     "data": {
      "text/plain": [
       "2"
      ]
     },
     "execution_count": 4,
     "metadata": {},
     "output_type": "execute_result"
    }
   ],
   "source": [
    "(lambda x:x)(2) # (lambda arguments:expression)(input)"
   ]
  },
  {
   "cell_type": "code",
   "execution_count": 5,
   "id": "201f54ab",
   "metadata": {},
   "outputs": [
    {
     "data": {
      "text/plain": [
       "4"
      ]
     },
     "execution_count": 5,
     "metadata": {},
     "output_type": "execute_result"
    }
   ],
   "source": [
    "(lambda x:x+1)(3)"
   ]
  },
  {
   "cell_type": "code",
   "execution_count": 6,
   "id": "946b7ac3",
   "metadata": {},
   "outputs": [],
   "source": [
    "# as lambda is a function we can store it to a variable\n",
    "add_one=lambda x:x+1"
   ]
  },
  {
   "cell_type": "code",
   "execution_count": 8,
   "id": "74fa1c84",
   "metadata": {},
   "outputs": [
    {
     "data": {
      "text/plain": [
       "4"
      ]
     },
     "execution_count": 8,
     "metadata": {},
     "output_type": "execute_result"
    }
   ],
   "source": [
    "add_one(3)"
   ]
  },
  {
   "cell_type": "markdown",
   "id": "ea519e4f",
   "metadata": {},
   "source": [
    "### Common use of Lambda Function\n",
    "- It used with iterables, which is a series of values\n",
    "- python iterables are list, dict, tuple, string, etc.\n",
    "- Two common function works with lambda function are filter() and map()"
   ]
  },
  {
   "cell_type": "markdown",
   "id": "43df82cd",
   "metadata": {},
   "source": [
    "### Filter()"
   ]
  },
  {
   "cell_type": "markdown",
   "id": "950d7a3c",
   "metadata": {},
   "source": [
    "#### example: we have a list [1,2,3,4,5,6,7,8,9,10]. We only are interested in even numbers"
   ]
  },
  {
   "cell_type": "code",
   "execution_count": 10,
   "id": "5283d186",
   "metadata": {},
   "outputs": [
    {
     "data": {
      "text/plain": [
       "[2, 4, 6, 8, 10]"
      ]
     },
     "execution_count": 10,
     "metadata": {},
     "output_type": "execute_result"
    }
   ],
   "source": [
    "list1=[1,2,3,4,5,6,7,8,9,10]\n",
    "list(filter(lambda x:x%2==0, list1))"
   ]
  },
  {
   "cell_type": "code",
   "execution_count": 12,
   "id": "f4f15b17",
   "metadata": {},
   "outputs": [
    {
     "data": {
      "text/plain": [
       "[1, 3, 5, 7, 9]"
      ]
     },
     "execution_count": 12,
     "metadata": {},
     "output_type": "execute_result"
    }
   ],
   "source": [
    "# Filter the odd numbers\n",
    "list(filter(lambda x:x%2==1, list1))"
   ]
  },
  {
   "cell_type": "code",
   "execution_count": 13,
   "id": "7e74578a",
   "metadata": {},
   "outputs": [
    {
     "data": {
      "text/plain": [
       "[3, 6, 9]"
      ]
     },
     "execution_count": 13,
     "metadata": {},
     "output_type": "execute_result"
    }
   ],
   "source": [
    "# multiple of 3\n",
    "list(filter(lambda x:x%3==0, list1))"
   ]
  },
  {
   "cell_type": "markdown",
   "id": "78fc3cc0",
   "metadata": {},
   "source": [
    "#### map() use whenever you want to update/modify every value in an iterable"
   ]
  },
  {
   "cell_type": "code",
   "execution_count": 16,
   "id": "c19daeab",
   "metadata": {},
   "outputs": [
    {
     "data": {
      "text/plain": [
       "[1, 4, 9, 16, 25, 36, 49, 64, 81, 100]"
      ]
     },
     "execution_count": 16,
     "metadata": {},
     "output_type": "execute_result"
    }
   ],
   "source": [
    "# create a new list of power of two\n",
    "list1=[1,2,3,4,5,6,7,8,9,10]\n",
    "\n",
    "list(map(lambda x: pow(x,2), list1))"
   ]
  },
  {
   "cell_type": "code",
   "execution_count": null,
   "id": "5e09e3cf",
   "metadata": {},
   "outputs": [],
   "source": [
    "# cube of each number\n",
    "list(map(lambda x: pow(x,3), list1))"
   ]
  },
  {
   "cell_type": "code",
   "execution_count": 17,
   "id": "ba9162aa",
   "metadata": {},
   "outputs": [
    {
     "data": {
      "text/plain": [
       "6"
      ]
     },
     "execution_count": 17,
     "metadata": {},
     "output_type": "execute_result"
    }
   ],
   "source": [
    "(lambda x,y,z:x+y+z)(1,2,3)"
   ]
  },
  {
   "cell_type": "code",
   "execution_count": 19,
   "id": "58e68efe",
   "metadata": {},
   "outputs": [
    {
     "data": {
      "text/plain": [
       "3"
      ]
     },
     "execution_count": 19,
     "metadata": {},
     "output_type": "execute_result"
    }
   ],
   "source": [
    "(lambda x, y, z=2: x+y+z)(1,2,0) # overwrites z value"
   ]
  },
  {
   "cell_type": "code",
   "execution_count": 20,
   "id": "b91f779e",
   "metadata": {},
   "outputs": [
    {
     "data": {
      "text/plain": [
       "5"
      ]
     },
     "execution_count": 20,
     "metadata": {},
     "output_type": "execute_result"
    }
   ],
   "source": [
    "(lambda x, y, z=2: x+y+z)(1,2)"
   ]
  },
  {
   "cell_type": "code",
   "execution_count": 21,
   "id": "83ca13ec",
   "metadata": {},
   "outputs": [
    {
     "data": {
      "text/plain": [
       "23"
      ]
     },
     "execution_count": 21,
     "metadata": {},
     "output_type": "execute_result"
    }
   ],
   "source": [
    "(lambda *args: sum(args)) (1,2,3,4,5,8)"
   ]
  },
  {
   "cell_type": "markdown",
   "id": "8498951b",
   "metadata": {},
   "source": [
    "### Exception handling"
   ]
  },
  {
   "cell_type": "code",
   "execution_count": 22,
   "id": "857c21f6",
   "metadata": {},
   "outputs": [
    {
     "ename": "ZeroDivisionError",
     "evalue": "division by zero",
     "output_type": "error",
     "traceback": [
      "\u001b[1;31m---------------------------------------------------------------------------\u001b[0m",
      "\u001b[1;31mZeroDivisionError\u001b[0m                         Traceback (most recent call last)",
      "\u001b[1;32m~\\AppData\\Local\\Temp\\ipykernel_39328\\1152173066.py\u001b[0m in \u001b[0;36m<module>\u001b[1;34m\u001b[0m\n\u001b[1;32m----> 1\u001b[1;33m \u001b[0mprint\u001b[0m\u001b[1;33m(\u001b[0m\u001b[1;36m5\u001b[0m\u001b[1;33m/\u001b[0m\u001b[1;36m0\u001b[0m\u001b[1;33m)\u001b[0m\u001b[1;33m\u001b[0m\u001b[1;33m\u001b[0m\u001b[0m\n\u001b[0m",
      "\u001b[1;31mZeroDivisionError\u001b[0m: division by zero"
     ]
    }
   ],
   "source": [
    "print(5/0)"
   ]
  },
  {
   "cell_type": "code",
   "execution_count": 23,
   "id": "49bb1314",
   "metadata": {},
   "outputs": [
    {
     "ename": "TypeError",
     "evalue": "unsupported operand type(s) for +: 'int' and 'str'",
     "output_type": "error",
     "traceback": [
      "\u001b[1;31m---------------------------------------------------------------------------\u001b[0m",
      "\u001b[1;31mTypeError\u001b[0m                                 Traceback (most recent call last)",
      "\u001b[1;32m~\\AppData\\Local\\Temp\\ipykernel_39328\\522457072.py\u001b[0m in \u001b[0;36m<module>\u001b[1;34m\u001b[0m\n\u001b[0;32m      1\u001b[0m \u001b[0mx\u001b[0m\u001b[1;33m=\u001b[0m\u001b[1;36m5\u001b[0m\u001b[1;33m\u001b[0m\u001b[1;33m\u001b[0m\u001b[0m\n\u001b[0;32m      2\u001b[0m \u001b[0my\u001b[0m\u001b[1;33m=\u001b[0m\u001b[1;34m\"Hello\"\u001b[0m\u001b[1;33m\u001b[0m\u001b[1;33m\u001b[0m\u001b[0m\n\u001b[1;32m----> 3\u001b[1;33m \u001b[0mz\u001b[0m\u001b[1;33m=\u001b[0m\u001b[0mx\u001b[0m\u001b[1;33m+\u001b[0m\u001b[0my\u001b[0m\u001b[1;33m\u001b[0m\u001b[1;33m\u001b[0m\u001b[0m\n\u001b[0m",
      "\u001b[1;31mTypeError\u001b[0m: unsupported operand type(s) for +: 'int' and 'str'"
     ]
    }
   ],
   "source": [
    "x=5\n",
    "y=\"Hello\"\n",
    "z=x+y"
   ]
  },
  {
   "cell_type": "code",
   "execution_count": 24,
   "id": "75559a44",
   "metadata": {},
   "outputs": [
    {
     "name": "stdout",
     "output_type": "stream",
     "text": [
      "Error: can not add int and str\n"
     ]
    }
   ],
   "source": [
    "x=5\n",
    "y=\"hello\"\n",
    "\n",
    "try:\n",
    "    z=x+y\n",
    "except TypeError:\n",
    "    print(\"Error: can not add int and str\")"
   ]
  },
  {
   "cell_type": "code",
   "execution_count": 25,
   "id": "5efb9593",
   "metadata": {},
   "outputs": [
    {
     "name": "stdout",
     "output_type": "stream",
     "text": [
      "Second variable:  list[1]\n",
      "fourth variable:  list[3]\n"
     ]
    }
   ],
   "source": [
    "list1=[1,2,3]\n",
    "try:\n",
    "    print(\"Second variable: \",list[1])\n",
    "    print(\"fourth variable: \",list[3])\n",
    "except:\n",
    "    print(\"An error occured\")"
   ]
  },
  {
   "cell_type": "code",
   "execution_count": 26,
   "id": "23f8a438",
   "metadata": {},
   "outputs": [
    {
     "ename": "TypeError",
     "evalue": "list indices must be integers or slices, not tuple",
     "output_type": "error",
     "traceback": [
      "\u001b[1;31m---------------------------------------------------------------------------\u001b[0m",
      "\u001b[1;31mTypeError\u001b[0m                                 Traceback (most recent call last)",
      "\u001b[1;32m~\\AppData\\Local\\Temp\\ipykernel_39328\\3768274899.py\u001b[0m in \u001b[0;36m<module>\u001b[1;34m\u001b[0m\n\u001b[1;32m----> 1\u001b[1;33m \u001b[0mlist1\u001b[0m\u001b[1;33m[\u001b[0m\u001b[1;36m1\u001b[0m\u001b[1;33m,\u001b[0m\u001b[1;36m2\u001b[0m\u001b[1;33m,\u001b[0m\u001b[1;36m3\u001b[0m\u001b[1;33m]\u001b[0m\u001b[1;33m\u001b[0m\u001b[1;33m\u001b[0m\u001b[0m\n\u001b[0m\u001b[0;32m      2\u001b[0m \u001b[0mprint\u001b[0m\u001b[1;33m(\u001b[0m\u001b[1;34m\"Forth variable: \"\u001b[0m\u001b[1;33m,\u001b[0m\u001b[0mlist1\u001b[0m\u001b[1;33m[\u001b[0m\u001b[1;36m3\u001b[0m\u001b[1;33m]\u001b[0m\u001b[1;33m)\u001b[0m\u001b[1;33m\u001b[0m\u001b[1;33m\u001b[0m\u001b[0m\n",
      "\u001b[1;31mTypeError\u001b[0m: list indices must be integers or slices, not tuple"
     ]
    }
   ],
   "source": [
    "list1[1,2,3]\n",
    "print(\"Forth variable: \",list1[3])"
   ]
  },
  {
   "cell_type": "code",
   "execution_count": 28,
   "id": "8e08a6a3",
   "metadata": {},
   "outputs": [
    {
     "name": "stdout",
     "output_type": "stream",
     "text": [
      "-5.0\n"
     ]
    }
   ],
   "source": [
    "def test(a,b):\n",
    "    try:\n",
    "        c=(a+b)/(a-b)\n",
    "    except:\n",
    "        print(\"a/b relsults 0\")\n",
    "    else:\n",
    "        print(c)\n",
    "test(2,3)"
   ]
  },
  {
   "cell_type": "markdown",
   "id": "3bdcfd1c",
   "metadata": {},
   "source": [
    "## Create a simple calculator using classes\n",
    "(IP7)"
   ]
  },
  {
   "cell_type": "code",
   "execution_count": null,
   "id": "a1c52456",
   "metadata": {},
   "outputs": [],
   "source": [
    "class calculator():\n",
    "    def __init__(self,input1,input2):\n",
    "        self.input1=input1\n",
    "        self.input2=input2\n",
    "    def addition(self):\n",
    "        return self.input1+self.input2\n",
    "    def subtraction(self):\n",
    "        return self.input1-self.input2\n",
    "    def multiplication(self):\n",
    "        return self.input1*self.input2\n",
    "    def division(self):\n",
    "        return self.input1/self.input2\n",
    "input_1=int(input(\"Enter first number: \"))\n",
    "input_2=int(input(\"Enter second number: \"))\n",
    "my_calc=calculator(input_1,input_2)\n",
    "\n",
    "choice=1\n",
    "while choice!=0:\n",
    "    print()\n",
    "    print(\"0. Exit\")\n",
    "    print(\"1. Addition\")\n",
    "    print(\"2. Subtraction\")\n",
    "    print(\"3. Multiplication\")\n",
    "    print(\"4. Division\")\n",
    "    choice=int(input(\"Enter your choice: \"))\n",
    "    \n",
    "    if choice==1:\n",
    "        print(f\"Result: {my_calc.addition()}\")\n",
    "    elif choice==2:\n",
    "        print(f\"Result: {my_calc.subtraction()}\")\n",
    "    elif choice==3:\n",
    "        print(f\"Result: {my_calc.multiplication()}\")\n",
    "    elif choice==4:\n",
    "        print(f\"Result: {my_calc.division()}\")\n",
    "    elif choice==0:\n",
    "        print(\"Exit\")\n",
    "    else:\n",
    "        print(\"sorry, invalid choice\")\n",
    "print()"
   ]
  },
  {
   "cell_type": "code",
   "execution_count": null,
   "id": "6ab4b4b1",
   "metadata": {},
   "outputs": [],
   "source": []
  },
  {
   "cell_type": "code",
   "execution_count": null,
   "id": "a7a954a0",
   "metadata": {},
   "outputs": [],
   "source": []
  },
  {
   "cell_type": "code",
   "execution_count": null,
   "id": "39c3dee9",
   "metadata": {},
   "outputs": [],
   "source": []
  },
  {
   "cell_type": "markdown",
   "id": "0ec161b5",
   "metadata": {},
   "source": [
    "## ATM machine "
   ]
  },
  {
   "cell_type": "code",
   "execution_count": 32,
   "id": "267c3e25",
   "metadata": {},
   "outputs": [],
   "source": [
    "class Bank_account:\n",
    "    def __init__(self):\n",
    "        self.balance=0\n",
    "        print(\"Welcome the the ATM\")\n",
    "    def deposit(self):\n",
    "        amount=float(input(\"Enter the amount you want to deposit: \"))\n",
    "        self.balance+=amount\n",
    "        print(\"\\n Amount deposited\",amount)\n",
    "        \n",
    "    def withdraw(self):\n",
    "        amount=float(input(\"Enter the amount you want to withdraw: \"))\n",
    "        if self.balance>=amount:\n",
    "            self.balance-=amount\n",
    "            print(\"\\n You withdrawn\", amount)\n",
    "        else:\n",
    "            print(\"\\n insufficient balance\")\n",
    "    def display(self):\n",
    "        print(\"The available balance is\", self.balance)"
   ]
  },
  {
   "cell_type": "code",
   "execution_count": 33,
   "id": "a6e40459",
   "metadata": {},
   "outputs": [
    {
     "name": "stdout",
     "output_type": "stream",
     "text": [
      "Welcome the the ATM\n",
      "The available balance is 0\n"
     ]
    }
   ],
   "source": [
    "sams_account=Bank_account()\n",
    "sams_account.display()"
   ]
  },
  {
   "cell_type": "code",
   "execution_count": 34,
   "id": "5349965d",
   "metadata": {},
   "outputs": [
    {
     "name": "stdout",
     "output_type": "stream",
     "text": [
      "Enter the amount you want to deposit: 500\n",
      "\n",
      " Amount deposited 500.0\n"
     ]
    }
   ],
   "source": [
    "# Deposit $500\n",
    "\n",
    "sams_account.deposit()"
   ]
  },
  {
   "cell_type": "code",
   "execution_count": 36,
   "id": "81828a66",
   "metadata": {},
   "outputs": [
    {
     "name": "stdout",
     "output_type": "stream",
     "text": [
      "Enter the amount you want to withdraw: 200\n",
      "\n",
      " You withdrawn 200.0\n"
     ]
    }
   ],
   "source": [
    "# withdraw\n",
    "sams_account.withdraw()"
   ]
  },
  {
   "cell_type": "code",
   "execution_count": 37,
   "id": "17c63fe3",
   "metadata": {},
   "outputs": [
    {
     "name": "stdout",
     "output_type": "stream",
     "text": [
      "The available balance is 300.0\n"
     ]
    }
   ],
   "source": [
    "sams_account.display()"
   ]
  },
  {
   "cell_type": "code",
   "execution_count": null,
   "id": "413a37f8",
   "metadata": {},
   "outputs": [],
   "source": []
  }
 ],
 "metadata": {
  "kernelspec": {
   "display_name": "Python 3 (ipykernel)",
   "language": "python",
   "name": "python3"
  },
  "language_info": {
   "codemirror_mode": {
    "name": "ipython",
    "version": 3
   },
   "file_extension": ".py",
   "mimetype": "text/x-python",
   "name": "python",
   "nbconvert_exporter": "python",
   "pygments_lexer": "ipython3",
   "version": "3.9.13"
  }
 },
 "nbformat": 4,
 "nbformat_minor": 5
}
