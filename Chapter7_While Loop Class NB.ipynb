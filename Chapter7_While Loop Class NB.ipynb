{
 "cells": [
  {
   "cell_type": "markdown",
   "metadata": {},
   "source": [
    "# While Loop\n",
    "* The for loop takes a collection of items and executes a block of code once for each item in the collection. \n",
    "* In contrast, the while loop runs as long as, or while, a certain condition is true."
   ]
  },
  {
   "cell_type": "markdown",
   "metadata": {},
   "source": [
    "## The while Loop in Action\n",
    "You can use a while loop to count up through a series of numbers. For\n",
    "example, the following while loop counts from 1 to 5:\n"
   ]
  },
  {
   "cell_type": "code",
   "execution_count": 1,
   "metadata": {},
   "outputs": [
    {
     "name": "stdout",
     "output_type": "stream",
     "text": [
      "1\n",
      "2\n",
      "3\n",
      "4\n",
      "5\n"
     ]
    }
   ],
   "source": [
    "for i in range(1,6):\n",
    "    print(i)"
   ]
  },
  {
   "cell_type": "code",
   "execution_count": 2,
   "metadata": {},
   "outputs": [
    {
     "name": "stdout",
     "output_type": "stream",
     "text": [
      "1\n",
      "2\n",
      "3\n",
      "4\n",
      "5\n"
     ]
    }
   ],
   "source": [
    "i=1 #initialization\n",
    "while i<=5: #condition check\n",
    "    print(i)\n",
    "    i+=1 #increment i=i+1"
   ]
  },
  {
   "cell_type": "markdown",
   "metadata": {},
   "source": [
    "## Letting the User Choose When to Quit"
   ]
  },
  {
   "cell_type": "code",
   "execution_count": 3,
   "metadata": {},
   "outputs": [],
   "source": [
    "prompt=\"\\nTell me something, and I will repeat bak it to you. Enter \\'quit\\' to end the program\""
   ]
  },
  {
   "cell_type": "code",
   "execution_count": 4,
   "metadata": {},
   "outputs": [
    {
     "name": "stdout",
     "output_type": "stream",
     "text": [
      "\n",
      "Tell me something, and I will repeat bak it to you. Enter 'quit' to end the program1\n",
      "1\n",
      "\n",
      "Tell me something, and I will repeat bak it to you. Enter 'quit' to end the programquit\n",
      "quit\n"
     ]
    }
   ],
   "source": [
    "message= \" \"\n",
    "while message !='quit':\n",
    "    message=input(prompt)\n",
    "    print(message)"
   ]
  },
  {
   "cell_type": "markdown",
   "metadata": {},
   "source": [
    "## A Flag"
   ]
  },
  {
   "cell_type": "markdown",
   "metadata": {
    "slideshow": {
     "slide_type": "subslide"
    }
   },
   "source": [
    "### For a program that should run only as long as many conditions are true, you can define one variable that determines whether or not the entire program is active. This variable, called a `flag`, acts as a signal to the program."
   ]
  },
  {
   "cell_type": "code",
   "execution_count": 5,
   "metadata": {},
   "outputs": [
    {
     "name": "stdout",
     "output_type": "stream",
     "text": [
      "\n",
      "Tell me something, and I will repeat bak it to you. Enter 'quit' to end the program1\n",
      "1\n",
      "\n",
      "Tell me something, and I will repeat bak it to you. Enter 'quit' to end the program2\n",
      "2\n",
      "\n",
      "Tell me something, and I will repeat bak it to you. Enter 'quit' to end the program3\n",
      "3\n",
      "\n",
      "Tell me something, and I will repeat bak it to you. Enter 'quit' to end the programquit\n"
     ]
    }
   ],
   "source": [
    "#flag two cases True or False\n",
    "message= \" \"\n",
    "active=True\n",
    "while active:\n",
    "    message = input(prompt)\n",
    "    \n",
    "    if message == 'quit': \n",
    "        active=False #flag\n",
    "    else:\n",
    "        print(message)"
   ]
  },
  {
   "cell_type": "code",
   "execution_count": null,
   "metadata": {},
   "outputs": [],
   "source": []
  },
  {
   "cell_type": "markdown",
   "metadata": {},
   "source": [
    "## Using break to Exit a Loop\n",
    "To exit a while loop immediately without running any remaining code in the\n",
    "loop, regardless of the results of any conditional test, use the break statement."
   ]
  },
  {
   "cell_type": "code",
   "execution_count": 6,
   "metadata": {},
   "outputs": [],
   "source": [
    "prompt=\"\\nEnter name of the cities you want to visit. Enter \\'quit\\' to exit\""
   ]
  },
  {
   "cell_type": "code",
   "execution_count": 7,
   "metadata": {},
   "outputs": [
    {
     "name": "stdout",
     "output_type": "stream",
     "text": [
      "\n",
      "Enter name of the cities you want to visit. Enter 'quit' to exitparis\n",
      "I would love to go to Paris!\n",
      "\n",
      "Enter name of the cities you want to visit. Enter 'quit' to exitquit\n"
     ]
    }
   ],
   "source": [
    "active= True #flag\n",
    "while active:\n",
    "    city=input(prompt)\n",
    "    if city=='quit':\n",
    "        break\n",
    "    else:\n",
    "        print(\"I would love to go to \"+city.title()+\"!\")"
   ]
  },
  {
   "cell_type": "markdown",
   "metadata": {},
   "source": [
    "### Guess the number"
   ]
  },
  {
   "cell_type": "code",
   "execution_count": 8,
   "metadata": {},
   "outputs": [
    {
     "name": "stdout",
     "output_type": "stream",
     "text": [
      "\n",
      "Enter a number in between 1 and 10.6\n",
      "you have guessed correctly\n"
     ]
    }
   ],
   "source": [
    "prompt=\"\\nEnter a number in between 1 and 10.\"\n",
    "number=0\n",
    "active=True \n",
    "while active:\n",
    "    number=int(input(prompt))\n",
    "    if number==6:\n",
    "        print(\"you have guessed correctly\")\n",
    "        break\n",
    "    else:\n",
    "        print(\"Not correct, guess again\")"
   ]
  },
  {
   "cell_type": "code",
   "execution_count": null,
   "metadata": {},
   "outputs": [],
   "source": [
    "\n"
   ]
  },
  {
   "cell_type": "markdown",
   "metadata": {},
   "source": [
    "### Guess the number with proper direction"
   ]
  },
  {
   "cell_type": "code",
   "execution_count": 9,
   "metadata": {},
   "outputs": [
    {
     "name": "stdout",
     "output_type": "stream",
     "text": [
      "\n",
      " Enter a number in between 1 to 20: 6\n",
      "You guessed correctly\n"
     ]
    }
   ],
   "source": [
    "prompt=\"\\n Enter a number in between 1 to 20: \"\n",
    "number_new=0\n",
    "active=True\n",
    "while active:\n",
    "    number_new=int(input(prompt))\n",
    "    if number_new<1 or number>20:\n",
    "        print(\"The number is invalid, enter a number between 1 to 20\")\n",
    "    elif number_new==6:\n",
    "        print(\"You guessed correctly\")\n",
    "        break\n",
    "    elif number_new<6:\n",
    "        print(\"Guess a number bigger than current guess\")\n",
    "    else: \n",
    "        print(\"Guess a number smaller than current guess\")"
   ]
  },
  {
   "cell_type": "code",
   "execution_count": null,
   "metadata": {},
   "outputs": [],
   "source": []
  },
  {
   "cell_type": "markdown",
   "metadata": {},
   "source": [
    "### Break with for loop"
   ]
  },
  {
   "cell_type": "code",
   "execution_count": 1,
   "metadata": {},
   "outputs": [
    {
     "name": "stdout",
     "output_type": "stream",
     "text": [
      "1 2 3 4 5 6 7 8 9 10 11 12 13 14 15 16 17 18 19 20 21 22 23 24 25 26 27 28 29 30 31 32 33 34 35 36 37 38 39 "
     ]
    }
   ],
   "source": [
    "# print all of the numbers between 0 to 100/the \n",
    "for number in range(1,100):\n",
    "\n",
    "    if number==40:\n",
    "        break\n",
    "    print(number,end=\" \")"
   ]
  },
  {
   "cell_type": "code",
   "execution_count": null,
   "metadata": {},
   "outputs": [],
   "source": []
  },
  {
   "cell_type": "markdown",
   "metadata": {},
   "source": [
    "### Using continue in a Loop\n",
    "- Rather than breaking out of a loop entirely without executing the rest of its code, \n",
    "- you can use the continue statement to return to the beginning of the loop based on the result of a conditional test. \n",
    "- For example, consider a loop that counts from 1 to 10 but prints only the odd numbers in that range:"
   ]
  },
  {
   "cell_type": "code",
   "execution_count": 3,
   "metadata": {},
   "outputs": [
    {
     "name": "stdout",
     "output_type": "stream",
     "text": [
      "1\n",
      "3\n",
      "5\n",
      "7\n",
      "9\n",
      "11\n"
     ]
    }
   ],
   "source": [
    "num=0\n",
    "while num<=10:\n",
    "    num+=1\n",
    "    if num %2 == 0:\n",
    "        continue\n",
    "    print(num)"
   ]
  },
  {
   "cell_type": "code",
   "execution_count": null,
   "metadata": {},
   "outputs": [],
   "source": []
  },
  {
   "cell_type": "markdown",
   "metadata": {},
   "source": [
    "### consider a loop (while/for) that counts from 10 to 20 but prints only the even numbers in that range, use continue statement:"
   ]
  },
  {
   "cell_type": "code",
   "execution_count": 4,
   "metadata": {},
   "outputs": [
    {
     "name": "stdout",
     "output_type": "stream",
     "text": [
      "10\n",
      "12\n",
      "14\n",
      "16\n",
      "18\n"
     ]
    }
   ],
   "source": [
    "for number in range(10,20):\n",
    "    if number %2 !=0: #if the number is odd then continue /do not print #\n",
    "        continue\n",
    "    print(number)\n"
   ]
  },
  {
   "cell_type": "code",
   "execution_count": null,
   "metadata": {},
   "outputs": [],
   "source": []
  },
  {
   "cell_type": "markdown",
   "metadata": {},
   "source": [
    "### Avoiding Infinite Loops"
   ]
  },
  {
   "cell_type": "code",
   "execution_count": null,
   "metadata": {},
   "outputs": [],
   "source": []
  },
  {
   "cell_type": "code",
   "execution_count": null,
   "metadata": {},
   "outputs": [],
   "source": []
  },
  {
   "cell_type": "markdown",
   "metadata": {},
   "source": [
    "### Movie Tickets: A movie theater charges different ticket prices depending on a person’s age. \n",
    "- If a person is under the age of 3, the ticket is free; if they are between 3 and 12, the ticket is 10 dollar\n",
    "- if they are over age 12, the ticket is 15 dollar. \n",
    "Write a while loop in which you ask users their age, and then tell them the cost of their movie ticket."
   ]
  },
  {
   "cell_type": "code",
   "execution_count": 1,
   "metadata": {},
   "outputs": [
    {
     "name": "stdout",
     "output_type": "stream",
     "text": [
      "Enter your age: 12\n",
      "The ticket price is $10\n",
      "Enter your age: -1\n"
     ]
    }
   ],
   "source": [
    "prompt=\"How old are you? Enter -1 to quit\"\n",
    "while True:\n",
    "    age=int(input(\"Enter your age: \"))\n",
    "    if age==-1:\n",
    "        break\n",
    "    elif age<3:\n",
    "    \n",
    "        print(\"The entry is free for you\")\n",
    "    elif age<13:\n",
    "        print(\"The ticket price is $10\")\n",
    "    else:\n",
    "        print(\"The ticket price is $15\")"
   ]
  },
  {
   "cell_type": "code",
   "execution_count": null,
   "metadata": {},
   "outputs": [],
   "source": []
  },
  {
   "cell_type": "markdown",
   "metadata": {},
   "source": [
    "## Using a while Loop with Lists and Dictionaries"
   ]
  },
  {
   "cell_type": "markdown",
   "metadata": {},
   "source": [
    "### Moving Items from One List to Another"
   ]
  },
  {
   "cell_type": "code",
   "execution_count": 2,
   "metadata": {},
   "outputs": [
    {
     "name": "stdout",
     "output_type": "stream",
     "text": [
      "Verifying user: Cadance\n",
      "Verifying user: Brian\n",
      "Verifying user: Alice\n",
      "The confirmed user list ['cadance', 'brian', 'alice']\n",
      "\n",
      "The following users are confirmed: \n",
      "Cadance\n",
      "Brian\n",
      "Alice\n"
     ]
    }
   ],
   "source": [
    "# Moving names from unconfirmed user to confirmed\n",
    "unconfirmed_user=['alice','brian','cadance']\n",
    "confirmed_user=[]\n",
    "\n",
    "#1. Verify each user until no more unconfirmed user\n",
    "#2. Move verify user into the new list called confirmed user\n",
    "\n",
    "while unconfirmed_user:\n",
    "    current_user=unconfirmed_user.pop()\n",
    "    \n",
    "    print(\"Verifying user: \"+current_user.title())\n",
    "    \n",
    "    confirmed_user.append(current_user)\n",
    "print(\"The confirmed user list\",confirmed_user)\n",
    "print(\"\\nThe following users are confirmed: \")\n",
    "\n",
    "for name in confirmed_user:\n",
    "    print(name.title())\n",
    "    "
   ]
  },
  {
   "cell_type": "code",
   "execution_count": null,
   "metadata": {},
   "outputs": [],
   "source": []
  },
  {
   "cell_type": "markdown",
   "metadata": {},
   "source": [
    "### Removing All Instances of Specific Values from a List"
   ]
  },
  {
   "cell_type": "code",
   "execution_count": 3,
   "metadata": {},
   "outputs": [
    {
     "name": "stdout",
     "output_type": "stream",
     "text": [
      "['dog', 'cat', 'dog', 'fish', 'cat', 'rabbit']\n"
     ]
    }
   ],
   "source": [
    "pets=['dog','cat','dog','fish','cat','rabbit']\n",
    "print(pets)"
   ]
  },
  {
   "cell_type": "code",
   "execution_count": 4,
   "metadata": {},
   "outputs": [
    {
     "name": "stdout",
     "output_type": "stream",
     "text": [
      "['dog', 'dog', 'fish', 'rabbit']\n"
     ]
    }
   ],
   "source": [
    "# remove all of the cats from the list\n",
    "while 'cat' in pets:\n",
    "    pets.remove('cat')\n",
    "print(pets)     #final result"
   ]
  },
  {
   "cell_type": "markdown",
   "metadata": {},
   "source": [
    "### Filling a Dictionary with User Input"
   ]
  },
  {
   "cell_type": "code",
   "execution_count": 5,
   "metadata": {},
   "outputs": [
    {
     "name": "stdout",
     "output_type": "stream",
     "text": [
      "\n",
      "What is your name?clay\n",
      "Which country do you want to visit? paris\n",
      "Would you like to add another persons response (yes/no)no\n",
      "\n",
      "---Poll Result---\n",
      "Clay Would like to visit Paris\n"
     ]
    }
   ],
   "source": [
    "response_dict={}\n",
    "\n",
    "# flag\n",
    "polling_active= True\n",
    "\n",
    "while polling_active:\n",
    "    #prompt user for namne (key) and response (value)\n",
    "    name=input(\"\\nWhat is your name?\")\n",
    "    response=input(\"Which country do you want to visit? \")\n",
    "    response_dict[name]=response #dictionary[key]=value\n",
    "    \n",
    "    repeat=input(\"Would you like to add another persons response (yes/no)\")\n",
    "    if repeat=='no':\n",
    "        polling_active= False #or break   \n",
    "#Poll complete. Sgow results\n",
    "\n",
    "print(\"\\n---Poll Result---\")\n",
    "\n",
    "for name,response in response_dict.items():\n",
    "    print(name.title()+\" Would like to visit \"+response.title())"
   ]
  },
  {
   "cell_type": "code",
   "execution_count": null,
   "metadata": {},
   "outputs": [],
   "source": []
  },
  {
   "cell_type": "markdown",
   "metadata": {},
   "source": [
    "## Deli: Make a list called sandwich_orders and fill it with the names of various sandwiches. \n",
    "- Then make an empty list called finished_sandwiches. \n",
    "- Loop through the list of sandwich orders and print a message for each order, such as I made your tuna sandwich. \n",
    "- As each sandwich is made, move it to the list of finished sandwiches. \n",
    "- After all the sandwiches have been made, print a message listing each sandwich that was made."
   ]
  },
  {
   "cell_type": "code",
   "execution_count": 6,
   "metadata": {},
   "outputs": [
    {
     "name": "stdout",
     "output_type": "stream",
     "text": [
      "I am working on your roast beef sandwhich\n",
      "I am working on your turkey sandwhich\n",
      "I am working on your grilled cheese sandwhich\n",
      "I am working on your veggie sandwhich\n",
      "--- The list of sandwhiches---\n",
      "I made a Roast Beef sandwhich\n",
      "I made a Turkey sandwhich\n",
      "I made a Grilled Cheese sandwhich\n",
      "I made a Veggie sandwhich\n"
     ]
    }
   ],
   "source": [
    "sandwhich_orders=['veggie','grilled cheese','turkey','roast beef']\n",
    "finished_sandwhich=[]\n",
    "while sandwhich_orders:\n",
    "    current_sandwhich=sandwhich_orders.pop()\n",
    "    print(\"I am working on your \"+current_sandwhich+\" sandwhich\")\n",
    "    finished_sandwhich.append(current_sandwhich)\n",
    "#print(\"The final sandwhich is: \",finished_sandwhich)\n",
    "print(\"--- The list of sandwhiches---\")\n",
    "for sandwhich in finished_sandwhich:\n",
    "    print(\"I made a \"+sandwhich.title()+\" sandwhich\")\n",
    "    "
   ]
  },
  {
   "cell_type": "code",
   "execution_count": null,
   "metadata": {},
   "outputs": [],
   "source": []
  },
  {
   "cell_type": "markdown",
   "metadata": {},
   "source": [
    "## Write a program to print n natural number in descending order using a while loop.\n"
   ]
  },
  {
   "cell_type": "code",
   "execution_count": 7,
   "metadata": {},
   "outputs": [
    {
     "name": "stdout",
     "output_type": "stream",
     "text": [
      "Enter the range: 1\n",
      "1 "
     ]
    }
   ],
   "source": [
    "n=int(input(\"Enter the range: \")) #10\n",
    "\n",
    "while(n!=0):\n",
    "    print(n, end=\" \")\n",
    "    n=n-1"
   ]
  },
  {
   "cell_type": "code",
   "execution_count": null,
   "metadata": {},
   "outputs": [],
   "source": []
  },
  {
   "cell_type": "markdown",
   "metadata": {},
   "source": [
    "## Factorial of a number"
   ]
  },
  {
   "cell_type": "code",
   "execution_count": 10,
   "metadata": {},
   "outputs": [
    {
     "name": "stdout",
     "output_type": "stream",
     "text": [
      "Enter the value of n: 5\n",
      "5\n",
      "20\n",
      "60\n",
      "120\n",
      "120\n",
      "120\n"
     ]
    }
   ],
   "source": [
    "n=int(input(\"Enter the value of n: \"))\n",
    "fact=1\n",
    "\n",
    "while (n):\n",
    "    fact=fact*n\n",
    "    n-=1 #n=n-1\n",
    "    print(fact)\n",
    "print(fact)"
   ]
  },
  {
   "cell_type": "code",
   "execution_count": null,
   "metadata": {},
   "outputs": [],
   "source": []
  },
  {
   "cell_type": "markdown",
   "metadata": {},
   "source": [
    "## Take 10 integers from keyboard using loop and print their sum and average value on the screen"
   ]
  },
  {
   "cell_type": "code",
   "execution_count": 12,
   "metadata": {},
   "outputs": [
    {
     "name": "stdout",
     "output_type": "stream",
     "text": [
      "Enter a number: 1\n",
      "Enter a number: 2\n",
      "Enter a number: 3\n",
      "Enter a number: 4\n",
      "Enter a number: 5\n",
      "Enter a number: 6\n",
      "Enter a number: 7\n",
      "Enter a number: 8\n",
      "Enter a number: 9\n",
      "Enter a number: 10\n",
      "The sum is 55\n",
      "The average is 5.5\n"
     ]
    }
   ],
   "source": [
    "sum=0 #initialization\n",
    "\n",
    "n=10\n",
    "\n",
    "while n>0:\n",
    "    num=int(input(\"Enter a number: \"))\n",
    "    sum+=num\n",
    "    n=n-1\n",
    "print(\"The sum is\",sum)\n",
    "print(\"The average is\", sum/10)"
   ]
  },
  {
   "cell_type": "markdown",
   "metadata": {},
   "source": [
    "### Take 5 integers from keyboard using loop and print their multiplication on the screen"
   ]
  },
  {
   "cell_type": "code",
   "execution_count": 13,
   "metadata": {},
   "outputs": [
    {
     "name": "stdout",
     "output_type": "stream",
     "text": [
      "Enter a number: 1\n",
      "Enter a number: 2\n",
      "Enter a number: 3\n",
      "Enter a number: 4\n",
      "Enter a number: 5\n",
      "The mulitplication is 120\n"
     ]
    }
   ],
   "source": [
    "multiply=1 #initialization\n",
    "\n",
    "n=5\n",
    "\n",
    "while n>0:\n",
    "    num=int(input(\"Enter a number: \"))\n",
    "    multiply*=num\n",
    "    n=n-1\n",
    "print(\"The mulitplication is\", multiply)"
   ]
  },
  {
   "attachments": {
    "image.png": {
     "image/png": "[encoded data removed]"
    }
   },
   "cell_type": "markdown",
   "metadata": {},
   "source": [
    "## Print the following patterns using loop :\n",
    "![image.png](attachment:image.png)"
   ]
  },
  {
   "cell_type": "code",
   "execution_count": 14,
   "metadata": {},
   "outputs": [
    {
     "name": "stdout",
     "output_type": "stream",
     "text": [
      " * \n",
      " *  * \n",
      " *  *  * \n",
      " *  *  *  * \n"
     ]
    }
   ],
   "source": [
    "i=1\n",
    "while i<=4:\n",
    "    print(i*\" * \")\n",
    "    i+=1"
   ]
  },
  {
   "cell_type": "code",
   "execution_count": null,
   "metadata": {},
   "outputs": [],
   "source": []
  },
  {
   "cell_type": "markdown",
   "metadata": {},
   "source": [
    "## Write a program to display the first 7 multiples of 7.\n"
   ]
  },
  {
   "cell_type": "code",
   "execution_count": 15,
   "metadata": {},
   "outputs": [
    {
     "name": "stdout",
     "output_type": "stream",
     "text": [
      "0 7 14 21 28 35 42 49 "
     ]
    }
   ],
   "source": [
    "counter=0\n",
    "\n",
    "for i in range(1000):\n",
    "    if i%7==0:\n",
    "        print(i,end=\" \")\n",
    "        counter+=1\n",
    "        if counter==8:\n",
    "            break"
   ]
  },
  {
   "cell_type": "code",
   "execution_count": null,
   "metadata": {},
   "outputs": [],
   "source": []
  },
  {
   "cell_type": "markdown",
   "metadata": {},
   "source": [
    "## Write a program that appends the square of each number to a new list."
   ]
  },
  {
   "cell_type": "code",
   "execution_count": 16,
   "metadata": {},
   "outputs": [
    {
     "name": "stdout",
     "output_type": "stream",
     "text": [
      "Result [1, 4, 9, 16, 25]\n"
     ]
    }
   ],
   "source": [
    "x=[1,2,3,4,5]\n",
    "z=[]\n",
    "\n",
    "for i in range(len(x)): # i is controlling the index of the x list\n",
    "    z.append(x[i]**2)\n",
    "    #print(z)\n",
    "print(\"Result\",z)"
   ]
  },
  {
   "cell_type": "code",
   "execution_count": null,
   "metadata": {},
   "outputs": [],
   "source": []
  },
  {
   "cell_type": "markdown",
   "metadata": {},
   "source": [
    "## Separate positive and negative number from a list.\n",
    "x = [23,12,-4,23,-9,21,3,-45,-8]"
   ]
  },
  {
   "cell_type": "code",
   "execution_count": 17,
   "metadata": {},
   "outputs": [
    {
     "name": "stdout",
     "output_type": "stream",
     "text": [
      "The positive list is [23, 12, 23, 21, 3]\n",
      "The negative list is [-4, -9, -45, -8]\n"
     ]
    }
   ],
   "source": [
    "x = [23,12,-4,23,-9,21,3,-45,-8]\n",
    "pos=[]\n",
    "neg=[]\n",
    "\n",
    "for i in range(len(x)):\n",
    "    if x[i]>=0:\n",
    "        pos.append(x[i])\n",
    "    else:\n",
    "        neg.append(x[i])\n",
    "print(\"The positive list is\",pos)\n",
    "print(\"The negative list is\",neg)"
   ]
  },
  {
   "cell_type": "code",
   "execution_count": null,
   "metadata": {},
   "outputs": [],
   "source": []
  },
  {
   "cell_type": "code",
   "execution_count": null,
   "metadata": {},
   "outputs": [],
   "source": []
  }
 ],
 "metadata": {
  "celltoolbar": "Slideshow",
  "kernelspec": {
   "display_name": "Python 3 (ipykernel)",
   "language": "python",
   "name": "python3"
  },
  "language_info": {
   "codemirror_mode": {
    "name": "ipython",
    "version": 3
   },
   "file_extension": ".py",
   "mimetype": "text/x-python",
   "name": "python",
   "nbconvert_exporter": "python",
   "pygments_lexer": "ipython3",
   "version": "3.9.13"
  }
 },
 "nbformat": 4,
 "nbformat_minor": 2
}
