{
 "cells": [
  {
   "cell_type": "code",
   "execution_count": 1,
   "id": "ce200b22",
   "metadata": {},
   "outputs": [
    {
     "name": "stdout",
     "output_type": "stream",
     "text": [
      "My first code\n"
     ]
    }
   ],
   "source": [
    "print(\"My first code\")"
   ]
  },
  {
   "cell_type": "code",
   "execution_count": 2,
   "id": "5f946546",
   "metadata": {},
   "outputs": [
    {
     "data": {
      "text/plain": [
       "19"
      ]
     },
     "execution_count": 2,
     "metadata": {},
     "output_type": "execute_result"
    }
   ],
   "source": [
    "4+5*3"
   ]
  },
  {
   "cell_type": "markdown",
   "id": "b31fa585",
   "metadata": {},
   "source": [
    "# Heading1\n",
    "## Heading2\n",
    "### Heading3\n",
    "#### Heading4\n",
    "##### Heading5\n",
    "###### Heading6"
   ]
  },
  {
   "cell_type": "markdown",
   "id": "245eafe6",
   "metadata": {},
   "source": [
    "> This is an indented sentence"
   ]
  },
  {
   "cell_type": "markdown",
   "id": "9a93d245",
   "metadata": {},
   "source": [
    "* Bullet list 1\n",
    "* Bullet list 2\n",
    "1. Ordered list 1\n",
    "2. Ordered list 2"
   ]
  },
  {
   "cell_type": "markdown",
   "id": "71eed57b",
   "metadata": {},
   "source": [
    "* **This is a bold text**\n",
    "* *This is an italic text*"
   ]
  },
  {
   "attachments": {},
   "cell_type": "markdown",
   "id": "d64f8bb6",
   "metadata": {},
   "source": [
    "You can access GitHub using this link?\n",
    "<a hrf=\"https://github.com/login?\">this link</a>"
   ]
  },
  {
   "attachments": {},
   "cell_type": "markdown",
   "id": "434e87d6",
   "metadata": {},
   "source": [
    "![Python Logo](https://www.python.org/static/community_logos/python-logo-master-v3-TM.png![image.png](attachment:image.png)"
   ]
  },
  {
   "cell_type": "code",
   "execution_count": null,
   "id": "feb177b8",
   "metadata": {},
   "outputs": [],
   "source": []
  },
  {
   "cell_type": "code",
   "execution_count": null,
   "id": "16d3be92",
   "metadata": {},
   "outputs": [],
   "source": []
  }
 ],
 "metadata": {
  "kernelspec": {
   "display_name": "Python 3 (ipykernel)",
   "language": "python",
   "name": "python3"
  },
  "language_info": {
   "codemirror_mode": {
    "name": "ipython",
    "version": 3
   },
   "file_extension": ".py",
   "mimetype": "text/x-python",
   "name": "python",
   "nbconvert_exporter": "python",
   "pygments_lexer": "ipython3",
   "version": "3.9.13"
  }
 },
 "nbformat": 4,
 "nbformat_minor": 5
}
