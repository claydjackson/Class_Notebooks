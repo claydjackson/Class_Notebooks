{
 "cells": [
  {
   "cell_type": "markdown",
   "id": "73943399",
   "metadata": {},
   "source": [
    "# 6. Working with Dictionaries\n",
    "* A dictionary in Python is a collection of key-value pairs. \n",
    "* Each key is connected to a value, and you can use a key to access the value associated with that key.\n",
    "* A key’s value can be a number, a string, a list, or even another dictionary.\n",
    "\n",
    "* `Key` is the unique identifier to find data and the `value` is the data\n",
    "\n",
    "* A dictionary is a collection which is ordered*, changeable and does not allow duplicates.\n",
    "\n",
    "* Unlike strings, lists, and tuples, **dictionaries are not sequences** - the data are not stored in order. \n",
    "* List can be represented by [ ], Tuple can be represented by ( ), Dictionary  can be represented by { }"
   ]
  },
  {
   "cell_type": "code",
   "execution_count": 1,
   "id": "05999d3a",
   "metadata": {},
   "outputs": [
    {
     "data": {
      "text/plain": [
       "dict"
      ]
     },
     "execution_count": 1,
     "metadata": {},
     "output_type": "execute_result"
    }
   ],
   "source": [
    "data={}\n",
    "type(data)   #empty dictionary"
   ]
  },
  {
   "cell_type": "code",
   "execution_count": 2,
   "id": "88e3e9ba",
   "metadata": {},
   "outputs": [
    {
     "data": {
      "text/plain": [
       "dict"
      ]
     },
     "execution_count": 2,
     "metadata": {},
     "output_type": "execute_result"
    }
   ],
   "source": [
    "data1=dict()  #empty dictionary\n",
    "type(data1)"
   ]
  },
  {
   "cell_type": "code",
   "execution_count": 3,
   "id": "5d25b2cb",
   "metadata": {},
   "outputs": [],
   "source": [
    "data={'alabama':'montgomery',\n",
    "     'arizona': 'phoenix',\n",
    "     'goergia': 'atlanta',\n",
    "     'kentucky': 'frankfort',\n",
    "     'ohio': 'salem'}   #key:value"
   ]
  },
  {
   "cell_type": "code",
   "execution_count": 4,
   "id": "3058feb0",
   "metadata": {},
   "outputs": [
    {
     "name": "stdout",
     "output_type": "stream",
     "text": [
      "{'alabama': 'montgomery', 'arizona': 'phoenix', 'goergia': 'atlanta', 'kentucky': 'frankfort', 'ohio': 'salem'}\n"
     ]
    }
   ],
   "source": [
    "print(data)"
   ]
  },
  {
   "cell_type": "code",
   "execution_count": 5,
   "id": "9938ff32",
   "metadata": {},
   "outputs": [
    {
     "data": {
      "text/plain": [
       "dict"
      ]
     },
     "execution_count": 5,
     "metadata": {},
     "output_type": "execute_result"
    }
   ],
   "source": [
    "type(data)"
   ]
  },
  {
   "cell_type": "markdown",
   "id": "4be8c616",
   "metadata": {},
   "source": [
    "### Access `values` from a dictionary using key\n",
    "* Key and values can be any data types\n",
    "* Accessing key value not present in dictionary generated KeyError"
   ]
  },
  {
   "cell_type": "code",
   "execution_count": 6,
   "id": "aab3f949",
   "metadata": {},
   "outputs": [],
   "source": [
    "data={'alabama':'montgomery',\n",
    "     'arizona': 'phoenix',\n",
    "     'goergia': 'atlanta',\n",
    "     'kentucky': 'frankfort',\n",
    "     'ohio': 'salem'}   #key:value"
   ]
  },
  {
   "cell_type": "code",
   "execution_count": 7,
   "id": "fe9e3886",
   "metadata": {},
   "outputs": [
    {
     "data": {
      "text/plain": [
       "'frankfort'"
      ]
     },
     "execution_count": 7,
     "metadata": {},
     "output_type": "execute_result"
    }
   ],
   "source": [
    "data['kentucky']"
   ]
  },
  {
   "cell_type": "code",
   "execution_count": 8,
   "id": "e4eb565d",
   "metadata": {},
   "outputs": [
    {
     "data": {
      "text/plain": [
       "'montgomery'"
      ]
     },
     "execution_count": 8,
     "metadata": {},
     "output_type": "execute_result"
    }
   ],
   "source": [
    "data['alabama']"
   ]
  },
  {
   "cell_type": "code",
   "execution_count": 9,
   "id": "c7dae653",
   "metadata": {},
   "outputs": [
    {
     "ename": "KeyError",
     "evalue": "'louisiana'",
     "output_type": "error",
     "traceback": [
      "\u001b[1;31m---------------------------------------------------------------------------\u001b[0m",
      "\u001b[1;31mKeyError\u001b[0m                                  Traceback (most recent call last)",
      "\u001b[1;32m~\\AppData\\Local\\Temp\\ipykernel_8312\\2064456065.py\u001b[0m in \u001b[0;36m<module>\u001b[1;34m\u001b[0m\n\u001b[1;32m----> 1\u001b[1;33m \u001b[0mdata\u001b[0m\u001b[1;33m[\u001b[0m\u001b[1;34m'louisiana'\u001b[0m\u001b[1;33m]\u001b[0m\u001b[1;33m\u001b[0m\u001b[1;33m\u001b[0m\u001b[0m\n\u001b[0m",
      "\u001b[1;31mKeyError\u001b[0m: 'louisiana'"
     ]
    }
   ],
   "source": [
    "data['louisiana']"
   ]
  },
  {
   "cell_type": "markdown",
   "id": "bc6af6fc",
   "metadata": {},
   "source": [
    "### Update elements of a dictionary and add new elements"
   ]
  },
  {
   "cell_type": "code",
   "execution_count": 12,
   "id": "f62f227f",
   "metadata": {},
   "outputs": [],
   "source": [
    "day={1: 'monday',\n",
    "    2: 'tuesday',\n",
    "    4: ['thursday', 'friday'],\n",
    "    5: ('saturday', 'sunday')}"
   ]
  },
  {
   "cell_type": "code",
   "execution_count": 13,
   "id": "560dd19f",
   "metadata": {},
   "outputs": [
    {
     "data": {
      "text/plain": [
       "'monday'"
      ]
     },
     "execution_count": 13,
     "metadata": {},
     "output_type": "execute_result"
    }
   ],
   "source": [
    "day[1]"
   ]
  },
  {
   "cell_type": "code",
   "execution_count": 14,
   "id": "7f07b100",
   "metadata": {},
   "outputs": [
    {
     "data": {
      "text/plain": [
       "'friday'"
      ]
     },
     "execution_count": 14,
     "metadata": {},
     "output_type": "execute_result"
    }
   ],
   "source": [
    "day[4][1]  #[key][index]"
   ]
  },
  {
   "cell_type": "code",
   "execution_count": 15,
   "id": "e30ad316",
   "metadata": {},
   "outputs": [
    {
     "data": {
      "text/plain": [
       "'saturday'"
      ]
     },
     "execution_count": 15,
     "metadata": {},
     "output_type": "execute_result"
    }
   ],
   "source": [
    "day[5][0]"
   ]
  },
  {
   "cell_type": "markdown",
   "id": "11710424",
   "metadata": {},
   "source": [
    "### Update. You can update values  but key is unique and immutable"
   ]
  },
  {
   "cell_type": "code",
   "execution_count": 16,
   "id": "c7a2ee5d",
   "metadata": {},
   "outputs": [
    {
     "ename": "TypeError",
     "evalue": "'tuple' object does not support item assignment",
     "output_type": "error",
     "traceback": [
      "\u001b[1;31m---------------------------------------------------------------------------\u001b[0m",
      "\u001b[1;31mTypeError\u001b[0m                                 Traceback (most recent call last)",
      "\u001b[1;32m~\\AppData\\Local\\Temp\\ipykernel_8312\\2215417559.py\u001b[0m in \u001b[0;36m<module>\u001b[1;34m\u001b[0m\n\u001b[0;32m      1\u001b[0m \u001b[1;31m#update sunday to holiday\u001b[0m\u001b[1;33m\u001b[0m\u001b[1;33m\u001b[0m\u001b[0m\n\u001b[1;32m----> 2\u001b[1;33m \u001b[0mday\u001b[0m\u001b[1;33m[\u001b[0m\u001b[1;36m5\u001b[0m\u001b[1;33m]\u001b[0m\u001b[1;33m[\u001b[0m\u001b[1;36m1\u001b[0m\u001b[1;33m]\u001b[0m\u001b[1;33m=\u001b[0m\u001b[1;34m'holiday'\u001b[0m \u001b[1;31m# Cannot update a tuple\u001b[0m\u001b[1;33m\u001b[0m\u001b[1;33m\u001b[0m\u001b[0m\n\u001b[0m",
      "\u001b[1;31mTypeError\u001b[0m: 'tuple' object does not support item assignment"
     ]
    }
   ],
   "source": [
    "#update sunday to holiday\n",
    "day[5][1]='holiday' # Cannot update a tuple"
   ]
  },
  {
   "cell_type": "code",
   "execution_count": 17,
   "id": "9a71a596",
   "metadata": {},
   "outputs": [
    {
     "name": "stdout",
     "output_type": "stream",
     "text": [
      "{1: 'monday', 2: 'tuesday', 4: ['holiday', 'friday'], 5: ('saturday', 'sunday')}\n"
     ]
    }
   ],
   "source": [
    "#Update thursday to holiday\n",
    "day[4][0]='holiday'\n",
    "print(day)"
   ]
  },
  {
   "cell_type": "code",
   "execution_count": 18,
   "id": "f988a3a1",
   "metadata": {},
   "outputs": [
    {
     "name": "stdout",
     "output_type": "stream",
     "text": [
      "{1: 'holiday', 2: 'tuesday', 4: ['holiday', 'friday'], 5: ('saturday', 'sunday')}\n"
     ]
    }
   ],
   "source": [
    "#update monday to holiay\n",
    "day[1]='holiday'\n",
    "print(day)"
   ]
  },
  {
   "cell_type": "markdown",
   "id": "f7bb990f",
   "metadata": {},
   "source": [
    "### `get` and `update` methods"
   ]
  },
  {
   "cell_type": "code",
   "execution_count": 19,
   "id": "071c6f12",
   "metadata": {},
   "outputs": [
    {
     "data": {
      "text/plain": [
       "{'alabama': 'montgomery',\n",
       " 'arizona': 'phoenix',\n",
       " 'goergia': 'atlanta',\n",
       " 'kentucky': 'frankfort',\n",
       " 'ohio': 'salem'}"
      ]
     },
     "execution_count": 19,
     "metadata": {},
     "output_type": "execute_result"
    }
   ],
   "source": [
    "data"
   ]
  },
  {
   "cell_type": "code",
   "execution_count": 20,
   "id": "10cd3add",
   "metadata": {},
   "outputs": [
    {
     "data": {
      "text/plain": [
       "'phoenix'"
      ]
     },
     "execution_count": 20,
     "metadata": {},
     "output_type": "execute_result"
    }
   ],
   "source": [
    "data.get('arizona') #.get() looking for key to return the value"
   ]
  },
  {
   "cell_type": "code",
   "execution_count": 21,
   "id": "afdf81cb",
   "metadata": {},
   "outputs": [],
   "source": [
    "data.get('louisiana') # .get() DOES NOT GENERATE ERROR THATS THE DIFFERENCE BETWEEN IT AND ACCESSING ELEMENT BY KEY"
   ]
  },
  {
   "cell_type": "code",
   "execution_count": 22,
   "id": "c99acf1a",
   "metadata": {},
   "outputs": [
    {
     "name": "stdout",
     "output_type": "stream",
     "text": [
      "{'alabama': 'montgomery', 'arizona': 'phoenix', 'goergia': 'atlanta', 'kentucky': 'frankfort', 'ohio': 'salem'}\n"
     ]
    }
   ],
   "source": [
    "# update old value to new and add new key value pair\n",
    "print(data)\n",
    "data.update({'kentucky':'louisville', 'louisiana':'baton rouge'})"
   ]
  },
  {
   "cell_type": "code",
   "execution_count": 23,
   "id": "c2d181a7",
   "metadata": {},
   "outputs": [
    {
     "name": "stdout",
     "output_type": "stream",
     "text": [
      "{'alabama': 'montgomery', 'arizona': 'phoenix', 'goergia': 'atlanta', 'kentucky': 'louisville', 'ohio': 'salem', 'louisiana': 'baton rouge'}\n"
     ]
    }
   ],
   "source": [
    "print(data)"
   ]
  },
  {
   "cell_type": "code",
   "execution_count": 24,
   "id": "b1ec9628",
   "metadata": {},
   "outputs": [
    {
     "name": "stdout",
     "output_type": "stream",
     "text": [
      "{'alabama': 'montgomery', 'arizona': 'phoenix', 'goergia': 'atlanta', 'kentucky': 'louisville', 'ohio': 'salem', 'louisiana': 'baton rouge', 'Alabama': 'montgomery'}\n"
     ]
    }
   ],
   "source": [
    "data.update({'Alabama': 'montgomery'})  #Only way to update key\n",
    "print(data)"
   ]
  },
  {
   "cell_type": "markdown",
   "id": "18536626",
   "metadata": {},
   "source": [
    "### Delete dictionary items using `del` and `pop`"
   ]
  },
  {
   "cell_type": "code",
   "execution_count": 25,
   "id": "ebc3b904",
   "metadata": {},
   "outputs": [],
   "source": [
    "data\n",
    "del data['alabama']"
   ]
  },
  {
   "cell_type": "code",
   "execution_count": 26,
   "id": "fc64b2ed",
   "metadata": {},
   "outputs": [
    {
     "data": {
      "text/plain": [
       "{'arizona': 'phoenix',\n",
       " 'goergia': 'atlanta',\n",
       " 'kentucky': 'louisville',\n",
       " 'ohio': 'salem',\n",
       " 'louisiana': 'baton rouge',\n",
       " 'Alabama': 'montgomery'}"
      ]
     },
     "execution_count": 26,
     "metadata": {},
     "output_type": "execute_result"
    }
   ],
   "source": [
    "data"
   ]
  },
  {
   "cell_type": "code",
   "execution_count": 27,
   "id": "e3993e4c",
   "metadata": {},
   "outputs": [
    {
     "data": {
      "text/plain": [
       "{'arizona': 'phoenix',\n",
       " 'goergia': 'atlanta',\n",
       " 'kentucky': 'louisville',\n",
       " 'ohio': 'salem',\n",
       " 'louisiana': 'baton rouge',\n",
       " 'Alabama': 'montgomery'}"
      ]
     },
     "execution_count": 27,
     "metadata": {},
     "output_type": "execute_result"
    }
   ],
   "source": [
    "data"
   ]
  },
  {
   "cell_type": "code",
   "execution_count": 28,
   "id": "c7dc1294",
   "metadata": {},
   "outputs": [
    {
     "name": "stdout",
     "output_type": "stream",
     "text": [
      "Deleted capital is:  montgomery\n",
      "{'arizona': 'phoenix', 'goergia': 'atlanta', 'kentucky': 'louisville', 'ohio': 'salem', 'louisiana': 'baton rouge'}\n"
     ]
    }
   ],
   "source": [
    "deleted_capital=data.pop('Alabama')\n",
    "print(\"Deleted capital is: \", deleted_capital)\n",
    "print(data)"
   ]
  },
  {
   "cell_type": "code",
   "execution_count": 29,
   "id": "37cc45d4",
   "metadata": {},
   "outputs": [
    {
     "data": {
      "text/plain": [
       "{'arizona': 'phoenix',\n",
       " 'goergia': 'atlanta',\n",
       " 'kentucky': 'louisville',\n",
       " 'ohio': 'salem',\n",
       " 'louisiana': 'baton rouge'}"
      ]
     },
     "execution_count": 29,
     "metadata": {},
     "output_type": "execute_result"
    }
   ],
   "source": [
    "data"
   ]
  },
  {
   "cell_type": "code",
   "execution_count": 30,
   "id": "7d83f37a",
   "metadata": {},
   "outputs": [],
   "source": [
    "del data #dictionary Deleted"
   ]
  },
  {
   "cell_type": "markdown",
   "id": "610aae76",
   "metadata": {},
   "source": [
    "### Number of elements in the dictionary and extracting `keys()`, `values()`, `items()`"
   ]
  },
  {
   "cell_type": "code",
   "execution_count": 31,
   "id": "f13bd3ba",
   "metadata": {},
   "outputs": [],
   "source": [
    "data={'alabama':'montgomery',\n",
    "     'arizona': 'phoenix',\n",
    "     'goergia': 'atlanta',\n",
    "     'kentucky': 'frankfort',\n",
    "     'ohio': 'salem'}   #key:value"
   ]
  },
  {
   "cell_type": "code",
   "execution_count": 32,
   "id": "1d31365f",
   "metadata": {},
   "outputs": [
    {
     "data": {
      "text/plain": [
       "5"
      ]
     },
     "execution_count": 32,
     "metadata": {},
     "output_type": "execute_result"
    }
   ],
   "source": [
    "# number of element/value in a dictionary\n",
    "len(data)"
   ]
  },
  {
   "cell_type": "code",
   "execution_count": 33,
   "id": "0db183c4",
   "metadata": {},
   "outputs": [
    {
     "name": "stdout",
     "output_type": "stream",
     "text": [
      "dict_keys(['alabama', 'arizona', 'goergia', 'kentucky', 'ohio'])\n"
     ]
    }
   ],
   "source": [
    "#extracting only keys\n",
    "print(data.keys())"
   ]
  },
  {
   "cell_type": "code",
   "execution_count": 34,
   "id": "a1c19204",
   "metadata": {},
   "outputs": [
    {
     "name": "stdout",
     "output_type": "stream",
     "text": [
      "dict_values(['montgomery', 'phoenix', 'atlanta', 'frankfort', 'salem'])\n"
     ]
    }
   ],
   "source": [
    "#extracting values\n",
    "print(data.values())"
   ]
  },
  {
   "cell_type": "code",
   "execution_count": 35,
   "id": "96a094cb",
   "metadata": {},
   "outputs": [
    {
     "name": "stdout",
     "output_type": "stream",
     "text": [
      "dict_items([('alabama', 'montgomery'), ('arizona', 'phoenix'), ('goergia', 'atlanta'), ('kentucky', 'frankfort'), ('ohio', 'salem')])\n"
     ]
    },
    {
     "data": {
      "text/plain": [
       "dict_items"
      ]
     },
     "execution_count": 35,
     "metadata": {},
     "output_type": "execute_result"
    }
   ],
   "source": [
    "#item/ key value pair\n",
    "print(data.items())\n",
    "type(data.items())"
   ]
  },
  {
   "cell_type": "markdown",
   "id": "ab9e78f2",
   "metadata": {},
   "source": [
    "\n",
    "### Loop through a dictionary"
   ]
  },
  {
   "cell_type": "code",
   "execution_count": 36,
   "id": "941bf04e",
   "metadata": {},
   "outputs": [
    {
     "data": {
      "text/plain": [
       "{'alabama': 'montgomery',\n",
       " 'arizona': 'phoenix',\n",
       " 'goergia': 'atlanta',\n",
       " 'kentucky': 'frankfort',\n",
       " 'ohio': 'salem'}"
      ]
     },
     "execution_count": 36,
     "metadata": {},
     "output_type": "execute_result"
    }
   ],
   "source": [
    "data"
   ]
  },
  {
   "cell_type": "code",
   "execution_count": 37,
   "id": "fe239e39",
   "metadata": {},
   "outputs": [
    {
     "name": "stdout",
     "output_type": "stream",
     "text": [
      "alabama\n",
      "<class 'str'>\n",
      "arizona\n",
      "<class 'str'>\n",
      "goergia\n",
      "<class 'str'>\n",
      "kentucky\n",
      "<class 'str'>\n",
      "ohio\n",
      "<class 'str'>\n"
     ]
    }
   ],
   "source": [
    "# loop thrugh the dictionary keys\n",
    "for i in data.keys(): # unpack dict items\n",
    "    print(i)\n",
    "    print(type(i))"
   ]
  },
  {
   "cell_type": "code",
   "execution_count": 38,
   "id": "c0746d46",
   "metadata": {},
   "outputs": [
    {
     "name": "stdout",
     "output_type": "stream",
     "text": [
      "The capital is montgomery\n",
      "The capital is phoenix\n",
      "The capital is atlanta\n",
      "The capital is frankfort\n",
      "The capital is salem\n"
     ]
    }
   ],
   "source": [
    "# Loop through the values\n",
    "for j in data.values():\n",
    "    print(\"The capital is\",j)\n"
   ]
  },
  {
   "cell_type": "code",
   "execution_count": 39,
   "id": "e07995b1",
   "metadata": {},
   "outputs": [
    {
     "name": "stdout",
     "output_type": "stream",
     "text": [
      "('alabama', 'montgomery')\n",
      "<class 'tuple'>\n",
      "('arizona', 'phoenix')\n",
      "<class 'tuple'>\n",
      "('goergia', 'atlanta')\n",
      "<class 'tuple'>\n",
      "('kentucky', 'frankfort')\n",
      "<class 'tuple'>\n",
      "('ohio', 'salem')\n",
      "<class 'tuple'>\n"
     ]
    }
   ],
   "source": [
    "#loooping through items\n",
    "for i in data.items():\n",
    "    print(i)\n",
    "    print(type(i))"
   ]
  },
  {
   "cell_type": "code",
   "execution_count": 40,
   "id": "5861a677",
   "metadata": {},
   "outputs": [
    {
     "name": "stdout",
     "output_type": "stream",
     "text": [
      "State alabama Capitol:  montgomery\n",
      "<class 'str'> <class 'str'>\n",
      "State arizona Capitol:  phoenix\n",
      "<class 'str'> <class 'str'>\n",
      "State goergia Capitol:  atlanta\n",
      "<class 'str'> <class 'str'>\n",
      "State kentucky Capitol:  frankfort\n",
      "<class 'str'> <class 'str'>\n",
      "State ohio Capitol:  salem\n",
      "<class 'str'> <class 'str'>\n"
     ]
    }
   ],
   "source": [
    "#tuplem unpacking\n",
    "for i,j in data.items():\n",
    "    print(\"State\",i, \"Capitol: \",j)\n",
    "    print(type(i),type(j))"
   ]
  },
  {
   "cell_type": "code",
   "execution_count": null,
   "id": "8954da31",
   "metadata": {},
   "outputs": [],
   "source": []
  },
  {
   "cell_type": "markdown",
   "id": "82ec7aff",
   "metadata": {},
   "source": [
    "### Convert dictionary values to lists using `list()` function"
   ]
  },
  {
   "cell_type": "code",
   "execution_count": 41,
   "id": "afcede6e",
   "metadata": {},
   "outputs": [
    {
     "data": {
      "text/plain": [
       "{'alabama': 'montgomery',\n",
       " 'arizona': 'phoenix',\n",
       " 'goergia': 'atlanta',\n",
       " 'kentucky': 'frankfort',\n",
       " 'ohio': 'salem'}"
      ]
     },
     "execution_count": 41,
     "metadata": {},
     "output_type": "execute_result"
    }
   ],
   "source": [
    "data"
   ]
  },
  {
   "cell_type": "code",
   "execution_count": 42,
   "id": "e593f81f",
   "metadata": {},
   "outputs": [
    {
     "data": {
      "text/plain": [
       "['montgomery', 'phoenix', 'atlanta', 'frankfort', 'salem']"
      ]
     },
     "execution_count": 42,
     "metadata": {},
     "output_type": "execute_result"
    }
   ],
   "source": [
    "list(data.values())"
   ]
  },
  {
   "cell_type": "code",
   "execution_count": 43,
   "id": "921501be",
   "metadata": {},
   "outputs": [
    {
     "data": {
      "text/plain": [
       "('alabama', 'arizona', 'goergia', 'kentucky', 'ohio')"
      ]
     },
     "execution_count": 43,
     "metadata": {},
     "output_type": "execute_result"
    }
   ],
   "source": [
    "tuple(data.keys())"
   ]
  },
  {
   "cell_type": "code",
   "execution_count": null,
   "id": "b85f9771",
   "metadata": {},
   "outputs": [],
   "source": []
  },
  {
   "cell_type": "code",
   "execution_count": 44,
   "id": "1513a1e3",
   "metadata": {},
   "outputs": [
    {
     "data": {
      "text/plain": [
       "{'alabama': 'montgomery',\n",
       " 'arizona': 'phoenix',\n",
       " 'goergia': 'atlanta',\n",
       " 'kentucky': 'frankfort',\n",
       " 'ohio': 'salem'}"
      ]
     },
     "execution_count": 44,
     "metadata": {},
     "output_type": "execute_result"
    }
   ],
   "source": [
    "data"
   ]
  },
  {
   "cell_type": "code",
   "execution_count": null,
   "id": "59ec3714",
   "metadata": {},
   "outputs": [],
   "source": []
  },
  {
   "cell_type": "markdown",
   "id": "d13131c6",
   "metadata": {},
   "source": [
    "### A List in a Dictionary"
   ]
  },
  {
   "cell_type": "code",
   "execution_count": 45,
   "id": "cd81cd95",
   "metadata": {},
   "outputs": [],
   "source": [
    "favlang={'Jen':['Python','ruby'],\n",
    "        'Sarah':['C'],\n",
    "        'Edward': ['ruby','Java'],\n",
    "        'Phil': ['Python', 'Haskell']}"
   ]
  },
  {
   "cell_type": "code",
   "execution_count": 49,
   "id": "1d594da7",
   "metadata": {},
   "outputs": [
    {
     "name": "stdout",
     "output_type": "stream",
     "text": [
      "\n",
      "Jen's favorite languages are:\n",
      "\t\t\t\tPython\n",
      "\t\t\t\tRuby\n",
      "\n",
      "Sarah's favorite languages are:\n",
      "\t\t\t\tC\n",
      "\n",
      "Edward's favorite languages are:\n",
      "\t\t\t\tRuby\n",
      "\t\t\t\tJava\n",
      "\n",
      "Phil's favorite languages are:\n",
      "\t\t\t\tPython\n",
      "\t\t\t\tHaskell\n"
     ]
    }
   ],
   "source": [
    "for name, languages in favlang.items():\n",
    "    print(\"\\n\"+name.title()+\"\\'s favorite languages are:\")\n",
    "    #print(languages)\n",
    "    for i in languages:\n",
    "        print(\"\\t\\t\\t\\t\"+i.title())"
   ]
  },
  {
   "cell_type": "code",
   "execution_count": null,
   "id": "e9a96ec4",
   "metadata": {},
   "outputs": [],
   "source": []
  },
  {
   "cell_type": "code",
   "execution_count": null,
   "id": "9796242d",
   "metadata": {},
   "outputs": [],
   "source": []
  },
  {
   "cell_type": "markdown",
   "id": "7543bcaf",
   "metadata": {},
   "source": [
    "###  A Dictionary in a Dictionary"
   ]
  },
  {
   "cell_type": "code",
   "execution_count": 52,
   "id": "5716262d",
   "metadata": {},
   "outputs": [],
   "source": [
    "user={'einstein':{'first':'albert',\n",
    "                 'last':'einstein',\n",
    "                 'location':'princeton',},\n",
    "     'mcurie':{'first':'marie',\n",
    "               'last':'curie',\n",
    "               'location': 'paris'}}"
   ]
  },
  {
   "cell_type": "code",
   "execution_count": 53,
   "id": "7aaca1c4",
   "metadata": {},
   "outputs": [
    {
     "data": {
      "text/plain": [
       "{'einstein': {'first': 'albert', 'last': 'einstein', 'location': 'princeton'},\n",
       " 'mcurie': {'first': 'marie', 'last': 'curie', 'location': 'paris'}}"
      ]
     },
     "execution_count": 53,
     "metadata": {},
     "output_type": "execute_result"
    }
   ],
   "source": [
    "user"
   ]
  },
  {
   "cell_type": "code",
   "execution_count": 54,
   "id": "5ec6b63c",
   "metadata": {},
   "outputs": [
    {
     "name": "stdout",
     "output_type": "stream",
     "text": [
      "\n",
      "User Name:  einstein\n",
      "The full name is: Albert Einstein\n",
      "The location:  Princeton\n",
      "\n",
      "User Name:  mcurie\n",
      "The full name is: Marie Curie\n",
      "The location:  Paris\n"
     ]
    }
   ],
   "source": [
    "for username, userinfo in user.items():\n",
    "    print('\\nUser Name: ', username)\n",
    "    fullname=userinfo['first']+\" \"+userinfo['last']\n",
    "    location=userinfo['location']\n",
    "    print(\"The full name is: \"+fullname.title())\n",
    "    print(\"The location: \", location.title())"
   ]
  },
  {
   "cell_type": "code",
   "execution_count": null,
   "id": "405d9792",
   "metadata": {},
   "outputs": [],
   "source": []
  }
 ],
 "metadata": {
  "kernelspec": {
   "display_name": "Python 3 (ipykernel)",
   "language": "python",
   "name": "python3"
  },
  "language_info": {
   "codemirror_mode": {
    "name": "ipython",
    "version": 3
   },
   "file_extension": ".py",
   "mimetype": "text/x-python",
   "name": "python",
   "nbconvert_exporter": "python",
   "pygments_lexer": "ipython3",
   "version": "3.9.13"
  }
 },
 "nbformat": 4,
 "nbformat_minor": 5
}
